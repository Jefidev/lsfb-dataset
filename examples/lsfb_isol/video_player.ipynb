{
 "cells": [
  {
   "cell_type": "markdown",
   "metadata": {
    "collapsed": false
   },
   "source": [
    "# Load a video from the CSV file"
   ]
  },
  {
   "cell_type": "code",
   "execution_count": 21,
   "metadata": {
    "collapsed": false,
    "pycharm": {
     "name": "#%%\n"
    }
   },
   "outputs": [
    {
     "data": {
      "text/plain": [
       "gloss                                                                   APRES\n",
       "start                                                                   96938\n",
       "end                                                                     97293\n",
       "hand                                                                    right\n",
       "relative_path                 videos/APRES/CLSFBI0213A_S004_B_96938_97293.mp4\n",
       "filename                                   CLSFBI0213A_S004_B_96938_97293.mp4\n",
       "face_landmarks              features/APRES/CLSFBI0213A_S004_B_96938_97293....\n",
       "pose_landmarks              features/APRES/CLSFBI0213A_S004_B_96938_97293....\n",
       "hands_landmarks             features/APRES/CLSFBI0213A_S004_B_96938_97293....\n",
       "holistic_landmarks          features/APRES/CLSFBI0213A_S004_B_96938_97293....\n",
       "holistic_landmarks_clean    features/APRES/CLSFBI0213A_S004_B_96938_97293....\n",
       "Name: 3679, dtype: object"
      ]
     },
     "execution_count": 21,
     "metadata": {},
     "output_type": "execute_result"
    }
   ],
   "source": [
    "import pandas as pd\n",
    "from os import path\n",
    "\n",
    "root_dir = '/media/hyperion/sign-language-datasets/LSFB/lsfb_isol_v2'\n",
    "\n",
    "df_videos = pd.read_csv(path.join(root_dir, 'clips.csv'))\n",
    "df_videos = df_videos.dropna()\n",
    "video = df_videos.iloc[3679]\n",
    "video"
   ]
  },
  {
   "cell_type": "markdown",
   "metadata": {
    "collapsed": false
   },
   "source": [
    "# Video player 1 - Holistic features and annotations\n",
    "\n",
    "The video player can show features associated with a specific video. This example shows holistic features (hands and face) with annotations (right hand and left hand)."
   ]
  },
  {
   "cell_type": "code",
   "execution_count": 14,
   "metadata": {
    "collapsed": true,
    "pycharm": {
     "name": "#%%\n"
    }
   },
   "outputs": [
    {
     "name": "stdout",
     "output_type": "stream",
     "text": [
      "Warning : The annotation are too short for the video.\n"
     ]
    }
   ],
   "source": [
    "from lsfb_dataset.visualisation.video import VideoPlayer\n",
    "\n",
    "player = VideoPlayer(path.join(root_dir, video['relative_path']))\n",
    "player.attach_holistic_features(path.join(root_dir, video['holistic_landmarks_clean']))\n",
    "player.show_landmarks(True)\n",
    "player.show_boxes(True)\n",
    "player.show_duration(True)\n",
    "\n",
    "player.play()"
   ]
  },
  {
   "cell_type": "markdown",
   "metadata": {
    "collapsed": false
   },
   "source": [
    "# Video player 2 - Landmarks\n",
    "\n",
    "This example show the ability of the video player to display landmarks. Those used in the example are raw landmarks computed with MediaPipe."
   ]
  },
  {
   "cell_type": "code",
   "execution_count": 23,
   "metadata": {
    "collapsed": false,
    "pycharm": {
     "name": "#%%\n"
    }
   },
   "outputs": [
    {
     "name": "stdout",
     "output_type": "stream",
     "text": [
      "Warning : The annotation are too short for the video.\n"
     ]
    }
   ],
   "source": [
    "from lsfb_dataset.visualisation.video import VideoPlayer\n",
    "\n",
    "another_player = VideoPlayer(path.join(root_dir, video['relative_path']))\n",
    "another_player.attach_pose_landmarks(path.join(root_dir, video['pose_landmarks']))\n",
    "another_player.attach_hands_landmarks(path.join(root_dir, video['hands_landmarks']))\n",
    "another_player.attach_face_landmarks(path.join(root_dir, video['face_landmarks']))\n",
    "\n",
    "another_player.play()"
   ]
  },
  {
   "cell_type": "code",
   "execution_count": 19,
   "metadata": {},
   "outputs": [
    {
     "name": "stdout",
     "output_type": "stream",
     "text": [
      "17\n",
      "17\n",
      "17\n",
      "17\n"
     ]
    }
   ],
   "source": [
    "\n",
    "\n"
   ]
  }
 ],
 "metadata": {
  "kernelspec": {
   "display_name": "Python 3",
   "language": "python",
   "name": "python3"
  },
  "language_info": {
   "codemirror_mode": {
    "name": "ipython",
    "version": 3
   },
   "file_extension": ".py",
   "mimetype": "text/x-python",
   "name": "python",
   "nbconvert_exporter": "python",
   "pygments_lexer": "ipython3",
   "version": "3.9.10"
  }
 },
 "nbformat": 4,
 "nbformat_minor": 0
}
