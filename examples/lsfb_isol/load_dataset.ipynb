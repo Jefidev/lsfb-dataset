{
 "cells": [
  {
   "cell_type": "markdown",
   "metadata": {
    "collapsed": false
   },
   "source": [
    "# Load the LSFB_ISOL dataset"
   ]
  },
  {
   "cell_type": "code",
   "execution_count": 5,
   "metadata": {
    "collapsed": false,
    "pycharm": {
     "name": "#%%\n"
    }
   },
   "outputs": [
    {
     "name": "stdout",
     "output_type": "stream",
     "text": [
      "(12, 576, 720, 3)\n",
      "(10, 84)\n",
      "(10, 66)\n",
      "(10, 129)\n",
      "0\n",
      "(21, 576, 720, 3)\n",
      "(20, 84)\n",
      "(20, 66)\n",
      "(20, 129)\n",
      "1\n",
      "(25, 576, 720, 3)\n",
      "(23, 84)\n",
      "(23, 66)\n",
      "(23, 129)\n",
      "1\n",
      "(15, 576, 720, 3)\n",
      "(14, 84)\n",
      "(14, 66)\n",
      "(14, 129)\n",
      "1\n",
      "(12, 576, 720, 3)\n",
      "(11, 84)\n",
      "(11, 66)\n",
      "(11, 129)\n",
      "1\n",
      "(19, 576, 720, 3)\n",
      "(18, 84)\n",
      "(18, 66)\n",
      "(18, 129)\n",
      "2\n",
      "(17, 576, 720, 3)\n",
      "(15, 84)\n",
      "(15, 66)\n",
      "(15, 129)\n",
      "3\n",
      "(34, 576, 720, 3)\n",
      "(33, 84)\n",
      "(33, 66)\n",
      "(33, 129)\n",
      "3\n",
      "(17, 576, 720, 3)\n",
      "(16, 84)\n",
      "(16, 66)\n",
      "(16, 129)\n",
      "3\n",
      "(15, 576, 720, 3)\n",
      "(14, 84)\n",
      "(14, 66)\n",
      "(14, 129)\n",
      "3\n"
     ]
    }
   ],
   "source": [
    "import pandas as pd\n",
    "from os import path\n",
    "from lsfb_dataset.datasets.lsfb_isol.lsfb_isol_dataset import LsfbIsolDataset\n",
    "import numpy as np\n",
    "\n",
    "root_dir = '/media/hyperion/sign-language-datasets/LSFB/lsfb_isol_v2'\n",
    "\n",
    "ds = LsfbIsolDataset(root_dir, features=['video', \"hands_landmarks\", \"face_landmarks\", \"pose_landmarks\"])\n",
    "\n",
    "i = 0\n",
    "\n",
    "for X, y in ds:\n",
    "    i += 1\n",
    "    print(X['video'].shape)\n",
    "    print(X['hands_landmarks'].shape)\n",
    "    print(X['pose_landmarks'].shape)\n",
    "    data = np.concatenate((X['hands_landmarks'], X['pose_landmarks'][:, 0:45]), axis=1)\n",
    "    print(data.shape)\n",
    "    print(y)\n",
    "\n",
    "    if i == 10:\n",
    "        break\n"
   ]
  }
 ],
 "metadata": {
  "kernelspec": {
   "display_name": "Python 3",
   "language": "python",
   "name": "python3"
  },
  "language_info": {
   "codemirror_mode": {
    "name": "ipython",
    "version": 3
   },
   "file_extension": ".py",
   "mimetype": "text/x-python",
   "name": "python",
   "nbconvert_exporter": "python",
   "pygments_lexer": "ipython3",
   "version": "3.9.10"
  }
 },
 "nbformat": 4,
 "nbformat_minor": 0
}
